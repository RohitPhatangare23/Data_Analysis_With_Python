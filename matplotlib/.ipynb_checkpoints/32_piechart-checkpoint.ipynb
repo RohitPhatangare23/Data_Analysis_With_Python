{
 "cells": [
  {
   "cell_type": "code",
   "execution_count": null,
   "id": "a0016d93",
   "metadata": {},
   "outputs": [],
   "source": [
    "import matplotlib.pyplot as plt\n",
    "sclice=[45,20,20,15]\n",
    "activities=[\"python\",\"java\",\"php\",\"kotlin\"]\n",
    "plt.pie(slice,label=activites)\n",
    "plt.show()"
   ]
  }
 ],
 "metadata": {
  "kernelspec": {
   "display_name": "Python 3 (ipykernel)",
   "language": "python",
   "name": "python3"
  },
  "language_info": {
   "codemirror_mode": {
    "name": "ipython",
    "version": 3
   },
   "file_extension": ".py",
   "mimetype": "text/x-python",
   "name": "python",
   "nbconvert_exporter": "python",
   "pygments_lexer": "ipython3",
   "version": "3.9.6"
  }
 },
 "nbformat": 4,
 "nbformat_minor": 5
}
